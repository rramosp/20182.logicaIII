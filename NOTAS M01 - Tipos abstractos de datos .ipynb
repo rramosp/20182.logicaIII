{
 "cells": [
  {
   "cell_type": "markdown",
   "metadata": {},
   "source": [
    "## Objetivos del módulo\n",
    "Conocer el concepto de tipos abstractos de datos y aprender a definir, interpretar e implementar estructuras de datos usando esta técnica.\n",
    "\n",
    "## Preguntas básicas\n",
    "1. ¿Qué es una tipo abstracto de datos (TAD)?\n",
    "2. ¿Qué significa 'abstracto'?\n",
    "3. ¿Cómo se define un TAD?\n",
    "4. ¿Cómo se implementa un TAD?\n",
    "5. ¿Cómo se mide el rendimiento de una implementación?\n",
    "\n",
    "\n",
    "## Introducción\n",
    "Uno de los temas de mayor importancia en el desarrollo de software es la definición de estructuras de datos en abstracto, es decir, independiente de su representación. Dicha definición conduce hacia la programación orientada a objetos (POO) y a una de sus principales características: el encapsulamiento.\n",
    "\n",
    "- **TIPO** (_type_): es un conjunto de valores. P.ej. [`True`, `False`], $\\mathbb{N}$, $\\mathbb{Z}$\n",
    "- **TIPO ABSTRACTO DE DATOS (TAD)** ([_abstract data type_](https://www.wikiwand.com/en/Abstract_data_type), _ADT_): es un tipo de datos, **MÁS** una definición de conjunto de operaciones sobre este tipo de datos, **MÁS** un conjunto de axiomas que definen la semántica de las operaciones.\n",
    "- **ESTRUCTURA DE DATOS** (_data structure_): es una realización de un TAD en un lenguaje de programación concreto.\n",
    "\n",
    "es preciso observar que:\n",
    "\n",
    "- Un TAD es una **definición abstracta** en algún _idioma_ matemático o informal.\n",
    "- Un TAD especifica **QUÉ** hace una operación, pero no **CÓMO**.\n",
    "- Los axiomas suelen definir **precondiciones** y **poscondiciones** de las operaciones.\n",
    "- Si la definición de un TAD es **totalmente matemática** podríamos en teoría probar formalmente propiedades y algoritmos (i.e. [verificación formal](https://www.wikiwand.com/en/Formal_verification), [derivación de programas](https://www.wikiwand.com/en/Program_derivation), [reparación de bugs](https://www.wikiwand.com/en/Automatic_bug_fixing), etc.).\n",
    "- Algunos tipos están ya implementados (_built-in_) en la base de Java, Python, Haskell, C, ...\n",
    "- Un TAD suele imlpementarse como una **clase** en distintos lenguajes de programación.\n",
    "\n",
    "## Ejemplo. Lista Ordenada\n",
    "\n",
    "### Definición informal\n",
    "\n",
    "- **tipo de datos**:\n",
    "    - los elementos de una lista ordenada son de un determinado tipo (p.ej. $\\mathbb{N}$, o `string`) que **admite una función de comparación** (1 **<** 2, \"albert\" **<** \"arbol\").\n",
    " \n",
    "- **funciones**:\n",
    "    - `OrderedList(tipo)`: crea una lista ordenada vacía para elementos de tipo de datos `tipo`. **Precondición**: El tipo de datos ha de admitir comparación.\n",
    "    - `add(item)`: añade un nuevo ítem a la lista preservando el orden de la misma. Si el ítem ya existe en la lista la operación no modifica la lista. **Precondición**: El ítem ha de ser del tipo de la lista.\n",
    "    - `remove(item)`: elimina un ítem de la lista preservando el orden de la misma. **Precondición**: El ítem ha de existir en la lista.\n",
    "    - `contains(item)`: devuelve un booleano indicando si el ítem está en la lista.\n",
    "    - `len()`: devuelve un entero con el número de elementos que tiene la lista.\n",
    "    - `first()`: devuelve el primer item de la lista y establece un **cursor** en el primer item. **Precondición**: la lista no puede estar vacia.\n",
    "    - `next()`: mueve el cursor al siguiente item de la lista y devuelve el item. **Precondición**: el cursor no puede estar en el último item.\n",
    "    - `has_more()`: devuelve un booleano `True` si el cursor está en el último item. Si no, devuelve `False`"
   ]
  },
  {
   "cell_type": "markdown",
   "metadata": {},
   "source": [
    "### Definición por axiomas\n",
    "\n",
    "$\\forall \\mathbb{T} \\in Types, L \\in OrderedList; a \\in \\mathbb{T}; n\\in\\mathbb{Z} $\n",
    "\n",
    "- signatures:\n",
    "$$\n",
    "\\begin{align}\n",
    "OrderedList (\\mathbb{T}) &\\rightarrow OrderedList\\\\\n",
    "add(a) &\\rightarrow None\\\\\n",
    "remove(a) &\\rightarrow None\\\\\n",
    "contains(a) &\\rightarrow Bool\\\\\n",
    "len() &\\rightarrow \\mathbb{Z}\\\\\n",
    "first() &\\rightarrow \\mathbb{T}\\\\\n",
    "next() &\\rightarrow \\mathbb{T}\\\\\n",
    "has\\_more() &\\rightarrow Bool\\\\\n",
    "\\end{align}\n",
    "$$    \n",
    "\n",
    "- definitions:\n",
    "   - $L^n ::= L.first(); [L.next()]^{n-1} \\;\\;with\\;\\;  n\\in[1,len(L)]$\n",
    "\n",
    "\n",
    "\n",
    "- preconditions\n",
    "\n",
    "<table>\n",
    "    <tr><th width=200>operación</th><th width=200>precondición</th></tr>\n",
    "    <tr><td>$OrderedList (\\mathbb{T})$</td><td>$\\mathbb{T}$ admite comparación</td></tr>\n",
    "    <tr><td>$L.add(a)$</td><td>$ a \\in \\mathbb{T}$</td></tr>\n",
    "    <tr><td>$L.remove(a)$</td><td>$ L.contains(a)$</td></tr>\n",
    "    <tr><td>$L.first()$</td><td>$len(L)>0$</td></tr>\n",
    "    <tr><td>$L^n$</td><td>$n\\in[1,len(L)]$</td></tr>\n",
    "</table>\n",
    "\n",
    "\n",
    "- axioms (post conditions):\n",
    "   - **axiom 1**: $len(OrderedList(\\mathbb{T}))=0$\n",
    "   - **axiom 2**: $L^n < L^{n+1}$\n",
    "   - **axiom 3**: $L.contains(a) \\iff \\exists n \\;\\;|\\;\\; a = L^n$\n",
    "   - **axiom 4**: $len(L.add(a)) = len(L)+ L.contains(a)$\n",
    "   - **axiom 5**: $len(L.remove(a)) = len(L)-1$\n",
    "   - **axiom 6**: $L.add(a) \\Rightarrow L.contains(a)$\n",
    "   - **axiom 7**: $L.remove(a) \\Rightarrow \\neg L.contains(a)$\n",
    "   - **axiom 8**: $L.has\\_more() \\iff L^n$ `and` $n<len(L)$\n",
    "\n",
    "Dada una implementación concreta, los axiomas nos permiten verificar si la implementación es correcta."
   ]
  },
  {
   "cell_type": "markdown",
   "metadata": {},
   "source": [
    "## Ejemplo: Implementación en Python\n",
    "\n",
    "**Observa**:\n",
    "\n",
    "- el TAD se implementa como una clase de Python\n",
    "- las precondiciones las implementamos con `assert`\n",
    "- ¿qué tan eficiente es esta implementación?"
   ]
  },
  {
   "cell_type": "code",
   "execution_count": 2,
   "metadata": {},
   "outputs": [],
   "source": [
    "class OrderedList:\n",
    "    \n",
    "    def __init__(self, item_type):\n",
    "        self.item_type = item_type\n",
    "        self.list = []\n",
    "        self.cursor = 0\n",
    "        \n",
    "    def add(self, item):\n",
    "        assert type(item)==self.item_type, \"must comply with declared type\"\n",
    "        self.list = [i for i in self.list if i<item] + [item] + [i for i in self.list if i>item]\n",
    "        \n",
    "    def remove(self, item):\n",
    "        assert self.contains(item), \"item not in list\"\n",
    "        self.list = [i for i in self.list if item!=i]\n",
    "        \n",
    "    def contains(self, item):\n",
    "        return item in self.list\n",
    "    \n",
    "    def first(self):\n",
    "        self.cursor = 1\n",
    "        return self.list[self.cursor-1]\n",
    "    \n",
    "    def next(self):\n",
    "        assert self.has_more(), \"no more items in list\"\n",
    "        self.cursor += 1\n",
    "        return self.list[self.cursor-1]\n",
    "    \n",
    "    def has_more(self):\n",
    "        return self.cursor<len(self.list)\n",
    "    \n",
    "    def len(self):\n",
    "        return len(self.list)\n",
    "    "
   ]
  },
  {
   "cell_type": "markdown",
   "metadata": {},
   "source": [
    "comprobamos a mano la implementación"
   ]
  },
  {
   "cell_type": "code",
   "execution_count": 3,
   "metadata": {},
   "outputs": [
    {
     "name": "stdout",
     "output_type": "stream",
     "text": [
      "[1, 2, 10]\n",
      "[1, 10]\n"
     ]
    }
   ],
   "source": [
    "k = OrderedList(int)\n",
    "k.add(10)\n",
    "k.add(1)\n",
    "k.add(2)\n",
    "print k.list\n",
    "k.remove(2)\n",
    "print k.list"
   ]
  },
  {
   "cell_type": "markdown",
   "metadata": {},
   "source": [
    "comprobamos alguna precondición"
   ]
  },
  {
   "cell_type": "code",
   "execution_count": 4,
   "metadata": {},
   "outputs": [
    {
     "name": "stdout",
     "output_type": "stream",
     "text": [
      "1 True\n",
      "10 False\n"
     ]
    },
    {
     "ename": "AssertionError",
     "evalue": "no more items in list",
     "output_type": "error",
     "traceback": [
      "\u001b[0;31m\u001b[0m",
      "\u001b[0;31mAssertionError\u001b[0mTraceback (most recent call last)",
      "\u001b[0;32m<ipython-input-4-1cc5b755f3f7>\u001b[0m in \u001b[0;36m<module>\u001b[0;34m()\u001b[0m\n\u001b[1;32m      1\u001b[0m \u001b[0;32mprint\u001b[0m \u001b[0mk\u001b[0m\u001b[0;34m.\u001b[0m\u001b[0mfirst\u001b[0m\u001b[0;34m(\u001b[0m\u001b[0;34m)\u001b[0m\u001b[0;34m,\u001b[0m \u001b[0mk\u001b[0m\u001b[0;34m.\u001b[0m\u001b[0mhas_more\u001b[0m\u001b[0;34m(\u001b[0m\u001b[0;34m)\u001b[0m\u001b[0;34m\u001b[0m\u001b[0m\n\u001b[1;32m      2\u001b[0m \u001b[0;32mprint\u001b[0m \u001b[0mk\u001b[0m\u001b[0;34m.\u001b[0m\u001b[0mnext\u001b[0m\u001b[0;34m(\u001b[0m\u001b[0;34m)\u001b[0m\u001b[0;34m,\u001b[0m \u001b[0mk\u001b[0m\u001b[0;34m.\u001b[0m\u001b[0mhas_more\u001b[0m\u001b[0;34m(\u001b[0m\u001b[0;34m)\u001b[0m\u001b[0;34m\u001b[0m\u001b[0m\n\u001b[0;32m----> 3\u001b[0;31m \u001b[0;32mprint\u001b[0m \u001b[0mk\u001b[0m\u001b[0;34m.\u001b[0m\u001b[0mnext\u001b[0m\u001b[0;34m(\u001b[0m\u001b[0;34m)\u001b[0m\u001b[0;34m\u001b[0m\u001b[0m\n\u001b[0m",
      "\u001b[0;32m<ipython-input-2-a06c45b4c9d3>\u001b[0m in \u001b[0;36mnext\u001b[0;34m(self)\u001b[0m\n\u001b[1;32m     22\u001b[0m \u001b[0;34m\u001b[0m\u001b[0m\n\u001b[1;32m     23\u001b[0m     \u001b[0;32mdef\u001b[0m \u001b[0mnext\u001b[0m\u001b[0;34m(\u001b[0m\u001b[0mself\u001b[0m\u001b[0;34m)\u001b[0m\u001b[0;34m:\u001b[0m\u001b[0;34m\u001b[0m\u001b[0m\n\u001b[0;32m---> 24\u001b[0;31m         \u001b[0;32massert\u001b[0m \u001b[0mself\u001b[0m\u001b[0;34m.\u001b[0m\u001b[0mhas_more\u001b[0m\u001b[0;34m(\u001b[0m\u001b[0;34m)\u001b[0m\u001b[0;34m,\u001b[0m \u001b[0;34m\"no more items in list\"\u001b[0m\u001b[0;34m\u001b[0m\u001b[0m\n\u001b[0m\u001b[1;32m     25\u001b[0m         \u001b[0mself\u001b[0m\u001b[0;34m.\u001b[0m\u001b[0mcursor\u001b[0m \u001b[0;34m+=\u001b[0m \u001b[0;36m1\u001b[0m\u001b[0;34m\u001b[0m\u001b[0m\n\u001b[1;32m     26\u001b[0m         \u001b[0;32mreturn\u001b[0m \u001b[0mself\u001b[0m\u001b[0;34m.\u001b[0m\u001b[0mlist\u001b[0m\u001b[0;34m[\u001b[0m\u001b[0mself\u001b[0m\u001b[0;34m.\u001b[0m\u001b[0mcursor\u001b[0m\u001b[0;34m-\u001b[0m\u001b[0;36m1\u001b[0m\u001b[0;34m]\u001b[0m\u001b[0;34m\u001b[0m\u001b[0m\n",
      "\u001b[0;31mAssertionError\u001b[0m: no more items in list"
     ]
    }
   ],
   "source": [
    "print k.first(), k.has_more()\n",
    "print k.next(), k.has_more()\n",
    "print k.next()"
   ]
  },
  {
   "cell_type": "code",
   "execution_count": 5,
   "metadata": {},
   "outputs": [
    {
     "ename": "AssertionError",
     "evalue": "must comply with declared type",
     "output_type": "error",
     "traceback": [
      "\u001b[0;31m\u001b[0m",
      "\u001b[0;31mAssertionError\u001b[0mTraceback (most recent call last)",
      "\u001b[0;32m<ipython-input-5-f961c13bf47b>\u001b[0m in \u001b[0;36m<module>\u001b[0;34m()\u001b[0m\n\u001b[0;32m----> 1\u001b[0;31m \u001b[0mk\u001b[0m\u001b[0;34m.\u001b[0m\u001b[0madd\u001b[0m\u001b[0;34m(\u001b[0m\u001b[0;34m\"ho\"\u001b[0m\u001b[0;34m)\u001b[0m\u001b[0;34m\u001b[0m\u001b[0m\n\u001b[0m",
      "\u001b[0;32m<ipython-input-2-a06c45b4c9d3>\u001b[0m in \u001b[0;36madd\u001b[0;34m(self, item)\u001b[0m\n\u001b[1;32m      7\u001b[0m \u001b[0;34m\u001b[0m\u001b[0m\n\u001b[1;32m      8\u001b[0m     \u001b[0;32mdef\u001b[0m \u001b[0madd\u001b[0m\u001b[0;34m(\u001b[0m\u001b[0mself\u001b[0m\u001b[0;34m,\u001b[0m \u001b[0mitem\u001b[0m\u001b[0;34m)\u001b[0m\u001b[0;34m:\u001b[0m\u001b[0;34m\u001b[0m\u001b[0m\n\u001b[0;32m----> 9\u001b[0;31m         \u001b[0;32massert\u001b[0m \u001b[0mtype\u001b[0m\u001b[0;34m(\u001b[0m\u001b[0mitem\u001b[0m\u001b[0;34m)\u001b[0m\u001b[0;34m==\u001b[0m\u001b[0mself\u001b[0m\u001b[0;34m.\u001b[0m\u001b[0mitem_type\u001b[0m\u001b[0;34m,\u001b[0m \u001b[0;34m\"must comply with declared type\"\u001b[0m\u001b[0;34m\u001b[0m\u001b[0m\n\u001b[0m\u001b[1;32m     10\u001b[0m         \u001b[0mself\u001b[0m\u001b[0;34m.\u001b[0m\u001b[0mlist\u001b[0m \u001b[0;34m=\u001b[0m \u001b[0;34m[\u001b[0m\u001b[0mi\u001b[0m \u001b[0;32mfor\u001b[0m \u001b[0mi\u001b[0m \u001b[0;32min\u001b[0m \u001b[0mself\u001b[0m\u001b[0;34m.\u001b[0m\u001b[0mlist\u001b[0m \u001b[0;32mif\u001b[0m \u001b[0mi\u001b[0m\u001b[0;34m<\u001b[0m\u001b[0mitem\u001b[0m\u001b[0;34m]\u001b[0m \u001b[0;34m+\u001b[0m \u001b[0;34m[\u001b[0m\u001b[0mitem\u001b[0m\u001b[0;34m]\u001b[0m \u001b[0;34m+\u001b[0m \u001b[0;34m[\u001b[0m\u001b[0mi\u001b[0m \u001b[0;32mfor\u001b[0m \u001b[0mi\u001b[0m \u001b[0;32min\u001b[0m \u001b[0mself\u001b[0m\u001b[0;34m.\u001b[0m\u001b[0mlist\u001b[0m \u001b[0;32mif\u001b[0m \u001b[0mi\u001b[0m\u001b[0;34m>\u001b[0m\u001b[0mitem\u001b[0m\u001b[0;34m]\u001b[0m\u001b[0;34m\u001b[0m\u001b[0m\n\u001b[1;32m     11\u001b[0m \u001b[0;34m\u001b[0m\u001b[0m\n",
      "\u001b[0;31mAssertionError\u001b[0m: must comply with declared type"
     ]
    }
   ],
   "source": [
    "k.add(\"ho\")"
   ]
  },
  {
   "cell_type": "code",
   "execution_count": 6,
   "metadata": {},
   "outputs": [
    {
     "ename": "AssertionError",
     "evalue": "item not in list",
     "output_type": "error",
     "traceback": [
      "\u001b[0;31m\u001b[0m",
      "\u001b[0;31mAssertionError\u001b[0mTraceback (most recent call last)",
      "\u001b[0;32m<ipython-input-6-3774a04f67d2>\u001b[0m in \u001b[0;36m<module>\u001b[0;34m()\u001b[0m\n\u001b[0;32m----> 1\u001b[0;31m \u001b[0mk\u001b[0m\u001b[0;34m.\u001b[0m\u001b[0mremove\u001b[0m\u001b[0;34m(\u001b[0m\u001b[0;36m2\u001b[0m\u001b[0;34m)\u001b[0m\u001b[0;34m\u001b[0m\u001b[0m\n\u001b[0m",
      "\u001b[0;32m<ipython-input-2-a06c45b4c9d3>\u001b[0m in \u001b[0;36mremove\u001b[0;34m(self, item)\u001b[0m\n\u001b[1;32m     11\u001b[0m \u001b[0;34m\u001b[0m\u001b[0m\n\u001b[1;32m     12\u001b[0m     \u001b[0;32mdef\u001b[0m \u001b[0mremove\u001b[0m\u001b[0;34m(\u001b[0m\u001b[0mself\u001b[0m\u001b[0;34m,\u001b[0m \u001b[0mitem\u001b[0m\u001b[0;34m)\u001b[0m\u001b[0;34m:\u001b[0m\u001b[0;34m\u001b[0m\u001b[0m\n\u001b[0;32m---> 13\u001b[0;31m         \u001b[0;32massert\u001b[0m \u001b[0mself\u001b[0m\u001b[0;34m.\u001b[0m\u001b[0mcontains\u001b[0m\u001b[0;34m(\u001b[0m\u001b[0mitem\u001b[0m\u001b[0;34m)\u001b[0m\u001b[0;34m,\u001b[0m \u001b[0;34m\"item not in list\"\u001b[0m\u001b[0;34m\u001b[0m\u001b[0m\n\u001b[0m\u001b[1;32m     14\u001b[0m         \u001b[0mself\u001b[0m\u001b[0;34m.\u001b[0m\u001b[0mlist\u001b[0m \u001b[0;34m=\u001b[0m \u001b[0;34m[\u001b[0m\u001b[0mi\u001b[0m \u001b[0;32mfor\u001b[0m \u001b[0mi\u001b[0m \u001b[0;32min\u001b[0m \u001b[0mself\u001b[0m\u001b[0;34m.\u001b[0m\u001b[0mlist\u001b[0m \u001b[0;32mif\u001b[0m \u001b[0mitem\u001b[0m\u001b[0;34m!=\u001b[0m\u001b[0mi\u001b[0m\u001b[0;34m]\u001b[0m\u001b[0;34m\u001b[0m\u001b[0m\n\u001b[1;32m     15\u001b[0m \u001b[0;34m\u001b[0m\u001b[0m\n",
      "\u001b[0;31mAssertionError\u001b[0m: item not in list"
     ]
    }
   ],
   "source": [
    "k.remove(2)"
   ]
  },
  {
   "cell_type": "markdown",
   "metadata": {},
   "source": [
    "### tests unitarios con los axiomas\n",
    "\n",
    "estos tests son **independientes de la implementación**"
   ]
  },
  {
   "cell_type": "markdown",
   "metadata": {},
   "source": [
    "**axiom 1**: $len(OrderedList(\\mathbb{T}))=0$"
   ]
  },
  {
   "cell_type": "code",
   "execution_count": 7,
   "metadata": {},
   "outputs": [
    {
     "name": "stdout",
     "output_type": "stream",
     "text": [
      "new list length: 0\n"
     ]
    }
   ],
   "source": [
    "def test_axiom1(ordered_list_class):\n",
    "    L = ordered_list_class(int)\n",
    "    print \"new list length:\", L.len()\n",
    "    assert L.len()==0\n",
    "    \n",
    "test_axiom1(OrderedList)   "
   ]
  },
  {
   "cell_type": "markdown",
   "metadata": {},
   "source": [
    "**axiom 2**: $L^n < L^{n+1}$"
   ]
  },
  {
   "cell_type": "code",
   "execution_count": 8,
   "metadata": {},
   "outputs": [
    {
     "name": "stdout",
     "output_type": "stream",
     "text": [
      "inserting 772 330 406 238 610 179 584 455 364 317 429 253 577 670 185 727 946 294 138 581 \n",
      "\n",
      "testing with list [138, 179, 185, 238, 253, 294, 317, 330, 364, 406, 429, 455, 577, 581, 584, 610, 670, 727, 772, 946] \n",
      "\n",
      "138 < 179    179 < 185    185 < 238    238 < 253    253 < 294    294 < 317    317 < 330    330 < 364    364 < 406    406 < 429    429 < 455    455 < 577    577 < 581    581 < 584    584 < 610    610 < 670    670 < 727    727 < 772    772 < 946   \n"
     ]
    }
   ],
   "source": [
    "def test_axiom2(ordered_list_class):\n",
    "    import numpy as np\n",
    "    \n",
    "    L = ordered_list_class(int)\n",
    "    print \"inserting\", \n",
    "    for i in range(20):\n",
    "        k = np.random.randint(1000)\n",
    "        print k, \n",
    "        L.add(k)\n",
    "    print \"\\n\\ntesting with list\", L.list, \"\\n\"\n",
    "    \n",
    "    item = L.first()\n",
    "    while L.has_more():\n",
    "        k = L.next()\n",
    "        print item,\"<\",k, \"  \",\n",
    "        assert item < k, \"wrong list order: %d before %d\"%(item,k)\n",
    "        item = k\n",
    "        \n",
    "test_axiom2(OrderedList)       "
   ]
  },
  {
   "cell_type": "markdown",
   "metadata": {},
   "source": [
    "## Ejemplo: Otra implementación en Python\n",
    "\n",
    "usamos la librería [bisect](https://docs.python.org/2/library/bisect.html). observa este ejemplo"
   ]
  },
  {
   "cell_type": "code",
   "execution_count": 9,
   "metadata": {},
   "outputs": [
    {
     "name": "stdout",
     "output_type": "stream",
     "text": [
      "3 3\n",
      "3 4\n",
      "[1, 2, 9, 10, 12, 30]\n"
     ]
    }
   ],
   "source": [
    "import bisect        \n",
    "l = [1,2,10,12,30]\n",
    "print bisect.bisect_left(l,11), bisect.bisect_right(l,11)\n",
    "print bisect.bisect_left(l,12), bisect.bisect_right(l,12)\n",
    "bisect.insort_left(l,9)\n",
    "print l"
   ]
  },
  {
   "cell_type": "markdown",
   "metadata": {},
   "source": [
    "Observa cómo usamos herencia para redefinir sólo los métodos que queremos"
   ]
  },
  {
   "cell_type": "code",
   "execution_count": 10,
   "metadata": {},
   "outputs": [],
   "source": [
    "class OrderedList_bisect(OrderedList):\n",
    "    \n",
    "    def add(self, item):\n",
    "        assert type(item)==self.item_type, \"must comply with declared type\"\n",
    "        if not self.contains(item):\n",
    "            bisect.insort_left(self.list, item)\n",
    "        \n",
    "    def remove(self, item):\n",
    "        k = bisect.bisect_left(self.list, item)\n",
    "        assert k<len(self.list) and self.list[k]==item,  \"item not in list\"        \n",
    "        self.list = self.list[:k]+self.list[k+1:]\n",
    "        \n",
    "    def contains(self, item):\n",
    "        k = bisect.bisect_left(self.list, item)\n",
    "        return k<len(self.list) and self.list[k]==item"
   ]
  },
  {
   "cell_type": "markdown",
   "metadata": {},
   "source": [
    "### verificamos los axiomas que tenemos implementados"
   ]
  },
  {
   "cell_type": "code",
   "execution_count": 11,
   "metadata": {},
   "outputs": [
    {
     "name": "stdout",
     "output_type": "stream",
     "text": [
      "new list length: 0\n",
      "new list length: 0\n"
     ]
    }
   ],
   "source": [
    "test_axiom1(OrderedList)\n",
    "test_axiom1(OrderedList_bisect)"
   ]
  },
  {
   "cell_type": "code",
   "execution_count": 12,
   "metadata": {},
   "outputs": [
    {
     "name": "stdout",
     "output_type": "stream",
     "text": [
      "inserting 433 732 280 508 407 65 407 134 697 400 366 577 981 438 668 952 128 232 800 693 \n",
      "\n",
      "testing with list [65, 128, 134, 232, 280, 366, 400, 407, 433, 438, 508, 577, 668, 693, 697, 732, 800, 952, 981] \n",
      "\n",
      "65 < 128    128 < 134    134 < 232    232 < 280    280 < 366    366 < 400    400 < 407    407 < 433    433 < 438    438 < 508    508 < 577    577 < 668    668 < 693    693 < 697    697 < 732    732 < 800    800 < 952    952 < 981   \n"
     ]
    }
   ],
   "source": [
    "test_axiom2(OrderedList)"
   ]
  },
  {
   "cell_type": "code",
   "execution_count": 13,
   "metadata": {},
   "outputs": [
    {
     "name": "stdout",
     "output_type": "stream",
     "text": [
      "inserting 987 325 270 544 380 170 575 448 669 102 18 504 122 761 404 330 4 292 420 445 \n",
      "\n",
      "testing with list [4, 18, 102, 122, 170, 270, 292, 325, 330, 380, 404, 420, 445, 448, 504, 544, 575, 669, 761, 987] \n",
      "\n",
      "4 < 18    18 < 102    102 < 122    122 < 170    170 < 270    270 < 292    292 < 325    325 < 330    330 < 380    380 < 404    404 < 420    420 < 445    445 < 448    448 < 504    504 < 544    544 < 575    575 < 669    669 < 761    761 < 987   \n"
     ]
    }
   ],
   "source": [
    "test_axiom2(OrderedList_bisect)"
   ]
  },
  {
   "cell_type": "markdown",
   "metadata": {},
   "source": [
    "### medimos rendimiento de ambas implementaciones"
   ]
  },
  {
   "cell_type": "code",
   "execution_count": 14,
   "metadata": {},
   "outputs": [
    {
     "name": "stdout",
     "output_type": "stream",
     "text": [
      "1000 995\n"
     ]
    }
   ],
   "source": [
    "import numpy as np\n",
    "l = np.random.randint(100000,size=1000)\n",
    "print len(l), len(np.unique(l))"
   ]
  },
  {
   "cell_type": "markdown",
   "metadata": {},
   "source": [
    "para la operación de `add`"
   ]
  },
  {
   "cell_type": "code",
   "execution_count": 229,
   "metadata": {},
   "outputs": [],
   "source": [
    "L1 = OrderedList(np.int64)\n",
    "L2 = OrderedList_bisect(np.int64)"
   ]
  },
  {
   "cell_type": "code",
   "execution_count": 230,
   "metadata": {},
   "outputs": [
    {
     "name": "stdout",
     "output_type": "stream",
     "text": [
      "10 loops, best of 3: 228 ms per loop\n"
     ]
    }
   ],
   "source": [
    "%%timeit\n",
    "for i in l:\n",
    "    L1.add(i)"
   ]
  },
  {
   "cell_type": "code",
   "execution_count": 231,
   "metadata": {},
   "outputs": [
    {
     "name": "stdout",
     "output_type": "stream",
     "text": [
      "1000 loops, best of 3: 2.21 ms per loop\n"
     ]
    }
   ],
   "source": [
    "%%timeit\n",
    "for i in l:\n",
    "    L2.add(i)"
   ]
  },
  {
   "cell_type": "markdown",
   "metadata": {},
   "source": [
    "para la operación `contains`"
   ]
  },
  {
   "cell_type": "code",
   "execution_count": 232,
   "metadata": {},
   "outputs": [
    {
     "name": "stdout",
     "output_type": "stream",
     "text": [
      "997 997\n"
     ]
    }
   ],
   "source": [
    "L1 = OrderedList(np.int64)\n",
    "L2 = OrderedList_bisect(np.int64)\n",
    "for i in l:\n",
    "    L1.add(i)\n",
    "    L2.add(i)\n",
    "print L1.len(), L2.len()"
   ]
  },
  {
   "cell_type": "code",
   "execution_count": 233,
   "metadata": {},
   "outputs": [
    {
     "name": "stdout",
     "output_type": "stream",
     "text": [
      "10 loops, best of 3: 21.3 ms per loop\n"
     ]
    }
   ],
   "source": [
    "%%timeit\n",
    "for i in l:\n",
    "    L1.contains(i)"
   ]
  },
  {
   "cell_type": "code",
   "execution_count": 234,
   "metadata": {},
   "outputs": [
    {
     "name": "stdout",
     "output_type": "stream",
     "text": [
      "1000 loops, best of 3: 1.71 ms per loop\n"
     ]
    }
   ],
   "source": [
    "%%timeit\n",
    "for i in l:\n",
    "    L2.contains(i)"
   ]
  },
  {
   "cell_type": "code",
   "execution_count": null,
   "metadata": {},
   "outputs": [],
   "source": []
  }
 ],
 "metadata": {
  "kernelspec": {
   "display_name": "Python 2",
   "language": "python",
   "name": "python2"
  },
  "language_info": {
   "codemirror_mode": {
    "name": "ipython",
    "version": 2
   },
   "file_extension": ".py",
   "mimetype": "text/x-python",
   "name": "python",
   "nbconvert_exporter": "python",
   "pygments_lexer": "ipython2",
   "version": "2.7.14"
  }
 },
 "nbformat": 4,
 "nbformat_minor": 2
}
